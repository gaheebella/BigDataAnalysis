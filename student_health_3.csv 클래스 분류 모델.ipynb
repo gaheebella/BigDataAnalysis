{
  "nbformat": 4,
  "nbformat_minor": 0,
  "metadata": {
    "colab": {
      "provenance": [],
      "authorship_tag": "ABX9TyNeuO8CUQ/eIn7aQEqpeLT9",
      "include_colab_link": true
    },
    "kernelspec": {
      "name": "python3",
      "display_name": "Python 3"
    },
    "language_info": {
      "name": "python"
    }
  },
  "cells": [
    {
      "cell_type": "markdown",
      "metadata": {
        "id": "view-in-github",
        "colab_type": "text"
      },
      "source": [
        "<a href=\"https://colab.research.google.com/github/gaheebella/BigDataAnalysis/blob/master/student_health_3.csv%20%ED%81%B4%EB%9E%98%EC%8A%A4%20%EB%B6%84%EB%A5%98%20%EB%AA%A8%EB%8D%B8.ipynb\" target=\"_parent\"><img src=\"https://colab.research.google.com/assets/colab-badge.svg\" alt=\"Open In Colab\"/></a>"
      ]
    },
    {
      "cell_type": "code",
      "execution_count": 15,
      "metadata": {
        "colab": {
          "base_uri": "https://localhost:8080/"
        },
        "id": "abjOoSCz-aQ8",
        "outputId": "e46de206-8c65-41a1-c6f0-7194a9fa59d4"
      },
      "outputs": [
        {
          "output_type": "stream",
          "name": "stdout",
          "text": [
            "Coefficients (rounded):  [-0.002  0.002  0.047 -0.01 ]\n",
            "테스트 데이터 MSE (평균 제곱 오차): 0.06\n",
            "테스트 데이터 r2 score: 0.76\n",
            "모델 accuracy_score (클래스 기준): 0.96\n",
            "예측된 클래스: Class 2\n"
          ]
        },
        {
          "output_type": "stream",
          "name": "stderr",
          "text": [
            "/usr/local/lib/python3.10/dist-packages/sklearn/base.py:493: UserWarning: X does not have valid feature names, but LinearRegression was fitted with feature names\n",
            "  warnings.warn(\n"
          ]
        }
      ],
      "source": [
        "import pandas as pd\n",
        "import numpy as np\n",
        "from sklearn.model_selection import train_test_split\n",
        "from sklearn.linear_model import LinearRegression #선형회귀모델\n",
        "from sklearn.metrics import mean_squared_error, r2_score, accuracy_score #성능평가지표\n",
        "\n",
        "data = pd.read_csv('student_health_3.csv', encoding='EUC-KR')\n",
        "\n",
        "#필요한 열만 선택\n",
        "columns = ['이완기', '수축기', '키', '몸무게', '학년']\n",
        "data = data[columns]\n",
        "\n",
        "# 클래스 정의: 학년 기준으로 Class 1 (1~3학년), Class 2 (4~6학년)\n",
        "data['Class'] = data['학년'].apply(lambda x: 1 if x <=3 else 2)\n",
        "\n",
        "features = ['이완기', '수축기', '키', '몸무게']\n",
        "x = data[features]\n",
        "y = data['Class'] #target설정\n",
        "\n",
        "#데이터 분리 (학습용 80%, 테스트용 20%)\n",
        "X_train, X_test, y_train, y_test = train_test_split(x, y, test_size = 0.2, random_state=42)\n",
        "\n",
        "#로지스틱 회귀 모델로 train(학습)데이터를 학습\n",
        "model = LinearRegression()\n",
        "model.fit(X_train, y_train)\n",
        "\n",
        "#test데이터로 예측\n",
        "y_pred = model.predict(X_test)\n",
        "\n",
        "#성능평가\n",
        "#1. coefficients\n",
        "print(\"Coefficients (rounded): \", np.round(model.coef_, 3))\n",
        "\n",
        "#2. MSE계산\n",
        "mse = mean_squared_error(y_test, y_pred)\n",
        "print(f\"테스트 데이터 MSE (평균 제곱 오차): {mse:.2f}\")\n",
        "\n",
        "#3. r2 스코어 계산\n",
        "r2 = r2_score(y_test, y_pred)\n",
        "print(f\"테스트 데이터 r2 score: {r2:.2f}\")\n",
        "\n",
        "#4. 정확도 계산 (분류 기준)\n",
        "y_pred_class = [1 if pred < 1.5 else 2 for pred in y_pred] #0.5기준으로 반올림-> 예측값을 1 or 2로 변환\n",
        "accuracy = accuracy_score(y_test, y_pred_class)\n",
        "print(f\"모델 accuracy_score (클래스 기준): {accuracy:.2f}\")\n",
        "\n",
        "\n",
        "#새로운 입력값 예측\n",
        "new_input = [[80, 100, 140, 60]] #이완기, 수축기, 키, 몸무게\n",
        "predicted_value = model.predict(new_input)\n",
        "predicted_class = 1 if predicted_value[0] < 1.5 else 2\n",
        "print(f\"예측된 클래스: Class {predicted_class}\")\n"
      ]
    },
    {
      "cell_type": "code",
      "source": [],
      "metadata": {
        "id": "_aTuCPRi_L8n"
      },
      "execution_count": null,
      "outputs": []
    }
  ]
}